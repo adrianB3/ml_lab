{
  "nbformat": 4,
  "nbformat_minor": 0,
  "metadata": {
    "colab": {
      "name": "ml_kmeans.ipynb",
      "provenance": [],
      "collapsed_sections": []
    },
    "kernelspec": {
      "name": "python3",
      "display_name": "Python 3"
    },
    "accelerator": "GPU"
  },
  "cells": [
    {
      "cell_type": "code",
      "metadata": {
        "id": "09_zzP9-U2zo",
        "colab_type": "code",
        "colab": {}
      },
      "source": [
        "import numpy as np\n",
        "import matplotlib.pyplot as plt\n",
        "from mpl_toolkits.mplot3d import Axes3D\n",
        "\n",
        "from sklearn.cluster import KMeans\n",
        "from sklearn import datasets"
      ],
      "execution_count": 0,
      "outputs": []
    },
    {
      "cell_type": "code",
      "metadata": {
        "id": "7oCCoZTzVhko",
        "colab_type": "code",
        "colab": {}
      },
      "source": [
        "np.random.seed(5)\n",
        "plt.rcParams['figure.figsize'] = [10, 5]\n",
        "\n",
        "iris = datasets.load_iris()\n",
        "x = iris.data\n",
        "y = iris.target"
      ],
      "execution_count": 0,
      "outputs": []
    },
    {
      "cell_type": "code",
      "metadata": {
        "id": "Vxg547cxWC68",
        "colab_type": "code",
        "colab": {}
      },
      "source": [
        "estimators = [\n",
        "              ('k_means_iris_8', KMeans(n_clusters=8)),\n",
        "              ('k_means_iris_3', KMeans(n_clusters=3)),\n",
        "              ('k_means_iris_bad_init', KMeans(n_clusters=3, n_init=1, init='random'))\n",
        "              ]"
      ],
      "execution_count": 0,
      "outputs": []
    },
    {
      "cell_type": "code",
      "metadata": {
        "id": "gH5-QUB9WTLJ",
        "colab_type": "code",
        "colab": {}
      },
      "source": [
        "fignum = 1\n",
        "titles = ['8_clusters', '3_clusters', '3_clusters, bad init']\n",
        "for name, est in estimators:\n",
        "  fig = plt.figure(fignum, figsize=(9, 9))\n",
        "  ax = Axes3D(fig, rect=[0, 0, .95, 1], elev=48, azim=134)\n",
        "  est.fit(x)\n",
        "  labels = est.labels_\n",
        "\n",
        "  ax.scatter(x[:, 3], x[:, 0], x[:, 2], c = labels.astype(np.float), edgecolor='k')\n",
        "\n",
        "  ax.w_xaxis.set_ticklabels([])\n",
        "  ax.w_yaxis.set_ticklabels([])\n",
        "  ax.w_zaxis.set_ticklabels([])\n",
        "\n",
        "  ax.set_xlabel('Petal width')\n",
        "  ax.set_ylabel('Sepal length')\n",
        "  ax.set_zlabel('Petal length')\n",
        "\n",
        "  ax.set_title(titles[fignum - 1])\n",
        "  ax.dist = 12\n",
        "  fignum = fignum + 1\n"
      ],
      "execution_count": 0,
      "outputs": []
    },
    {
      "cell_type": "code",
      "metadata": {
        "id": "7zHfWsszZ4bV",
        "colab_type": "code",
        "colab": {}
      },
      "source": [
        "# ground truth plot\n",
        "fig = plt.figure(fignum, figsize=(9, 9))\n",
        "ax = Axes3D(fig, rect=[0, 0, .95, 1], elev=48, azim=134)\n",
        "\n",
        "for name, label in [('Setosa', 0),\n",
        "                    ('Versicolour', 1), \n",
        "                    ('Virginica', 2)]:\n",
        "  ax.text3D(x[y == label, 3].mean(), x[y == label, 0].mean(), x[y == label, 2].mean() + 2, name, horizontalalignment='center', bbox=dict(alpha=.2, edgecolor='w', facecolor='w'))\n",
        "\n",
        "y = np.choose(y, [1, 2, 0]).astype(np.float)\n",
        "ax.scatter(x[:, 3], x[:, 0], x[:, 2], c=y, edgecolor='k')\n",
        "\n",
        "ax.w_xaxis.set_ticklabels([])\n",
        "ax.w_yaxis.set_ticklabels([])\n",
        "ax.w_zaxis.set_ticklabels([])\n",
        "\n",
        "ax.set_xlabel('Petal width')\n",
        "ax.set_ylabel('Sepal length')\n",
        "ax.set_zlabel('Petal length')\n",
        "\n",
        "ax.set_title(\"Ground Truth\")\n",
        "ax.dist = 12\n",
        "\n",
        "fig.show()"
      ],
      "execution_count": 0,
      "outputs": []
    }
  ]
}